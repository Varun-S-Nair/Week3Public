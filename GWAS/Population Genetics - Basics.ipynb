{
 "cells": [
  {
   "cell_type": "markdown",
   "metadata": {},
   "source": [
    "# Basics of Population Genetics"
   ]
  },
  {
   "cell_type": "markdown",
   "metadata": {},
   "source": [
    "In this notebook we will step through some of the basic concepts in population genetics. In this notebook, you will \n",
    "* Compute the allele frequency\n",
    "* Compute Hardy Weinberg Equilibrium and test if the healthy controls deviate from HWE using a chi-square test\n",
    "* Execute a chi-square test to test the association in controls and diseased population"
   ]
  },
  {
   "cell_type": "markdown",
   "metadata": {},
   "source": [
    "## Allele Frequency\n",
    "\n",
    "The frequency of an allele is defined as the total number of copies of that allele in the population divided by the total number of copies of all alleles of the gene. \n",
    "\n",
    "Assume we have a population with the following distributions:\n",
    "\n",
    "<img src = \"alleleFrequency.png\">\n",
    "\n",
    "We can calculate:\n",
    "- total number of A alleles: 2 $*$ 180 $+$ 240 $=$ 600\n",
    "- total number of a alleles: 2 $*$ 80 $+$ 240 $=$ 400\n",
    "\n",
    "*A* is referred to as the major allele and *a* is the minor allele\n",
    "\n",
    "minor allele frequency $=$ total number of *a* alleles $/$ total number of alleles\n",
    "                       $=$ 400$/$1000 \n",
    "\n"
   ]
  },
  {
   "cell_type": "markdown",
   "metadata": {},
   "source": [
    "The year is 1999, and an investigator has painstakingly genotyped 1 SNP called (rsGOINGALLIN ) in individuals with bipolar disorder and without. rsGOINGALLIN can take on the 3 genotype configurations, CC, CT, TT. He has collected the following data:\n",
    "\n",
    "\n",
    "|Disease/Controls  |CC    | CT  | TT  | \n",
    "|------------------|------|-----|-----| \n",
    "| Bipolar Disorder | 270  | 957 | 771 |\n",
    "| Healthy Controls | 436  |1398 | 1170|\n"
   ]
  },
  {
   "cell_type": "code",
   "execution_count": 2,
   "metadata": {},
   "outputs": [
    {
     "name": "stdout",
     "output_type": "stream",
     "text": [
      "0.37462462462462465\n",
      "0.6253753753753754\n",
      "\n",
      "0.37782956058588546\n",
      "0.6221704394141145\n"
     ]
    }
   ],
   "source": [
    "# What is the allele frequency (C and T) in the bipolar population? In the Controls?\n",
    "c = (2*(270)+957)\n",
    "t = (2*(771)+957)\n",
    "total = c+t\n",
    "\n",
    "print(c/total)\n",
    "bic = c/total\n",
    "print(t/total)\n",
    "bit = t/total\n",
    "\n",
    "print()\n",
    "c = (2*(436)+1398)\n",
    "t = (2*(1170)+1398)\n",
    "total = c+t\n",
    "\n",
    "print(c/total)\n",
    "hic = c/total\n",
    "print(t/total)\n",
    "hit = t/total"
   ]
  },
  {
   "cell_type": "markdown",
   "metadata": {},
   "source": [
    "## Genetic Equilibrium and Hardy Weinberg Principle\n",
    "\n",
    "(courtesy: https://www.cs.cmu.edu/~genetics/units/instructions/instructions-PGE.pdf)\n",
    "\n",
    "A population is  in genetic equilibrium when allele frequencies in the gene pool remain constant across generations. A gene pool will be in equilibrium under the following conditions:\n",
    "\n",
    "* the population is very large\n",
    "* individuals in the population mate randomly\n",
    "* there is no migration into or out of the population\n",
    "* natural selection does not act on any specific genotypes\n",
    "* males and females have the same allele frequencies \n",
    "* no mutations occur\n",
    "\n",
    "In 1908 Godfrey Hardy and Wilhelm Weinberg, working independently, specified the relationship between \n",
    "genotype frequencies and allele frequencies that must occur in such an idealized population in equilibrium. This\n",
    "relationship, known as the Hardy-Weinberg principle, is important because we can use it to determine if a \n",
    "population is in equilibrium for a particular gene.\n",
    "\n",
    "<img src = \"HWE.png\" >\n",
    "\n",
    "Assume \n",
    "\n",
    "* p = The frequency of the major allele A in the population (0.6 above)\n",
    "* q = The frequency of the minor allele a in the population (0.4 above)\n",
    "\n",
    "Hardy-Weinberg principle states that when a population is in equilibrium then:\n",
    "\n",
    "* frequency of AA $= p^2$\n",
    "* frequency of Aa $= 2pq$\n",
    "* frequency of aa $= q^2$\n",
    "\n",
    "And: $p^2 + 2pq + q^2 = 1$\n"
   ]
  },
  {
   "cell_type": "markdown",
   "metadata": {},
   "source": [
    "To determine if a population is in equilibrium, given the population genotype numbers, \n",
    "\n",
    "(1) calculate the allele frequencies from the observed population genotype numbers\n",
    "\n",
    "(2) calculate the genotype frequencies from the observed genotype numbers\n",
    "\n",
    "(3) apply the Hardy-Weinberg principle to calculate the expected genotype frequencies from the allele frequencies \n",
    "in the population.\n",
    "\n",
    "(4) If the population is in Hardy-Weinberg equilibrium the observed genotype frequencies in step 2 will be \n",
    "      (roughly) the same as the expected frequencies in step 3. (A Chi-Square test is used to determine if the \n",
    "      observed and expected genotype are statistically different)\n",
    "      \n",
    "HWE $=  (observed - expected)^2 / expected$ \n",
    "\n",
    "chi.square (HWE).pvalue < 0.05 implies that the population is not in equilibrium"
   ]
  },
  {
   "cell_type": "code",
   "execution_count": 3,
   "metadata": {},
   "outputs": [
    {
     "name": "stdout",
     "output_type": "stream",
     "text": [
      "3.917941046438134e-05\n",
      "4.887617442766772e-05\n",
      "1.460019056621288e-05\n",
      "\n",
      "0.9965918641016469\n"
     ]
    }
   ],
   "source": [
    "# Compute the HWE equilibrium for healthy controls. Is there deviation from HWE?\n",
    "cc = 436\n",
    "ct = 1398\n",
    "tt = 1170\n",
    "\n",
    "total = cc + ct + tt\n",
    "\n",
    "cc/=total\n",
    "ct/=total\n",
    "tt/=total\n",
    "\n",
    "pcc = (hic**2-cc)**2/cc\n",
    "print(pcc)\n",
    "pct = (2*hic*hit-ct)**2/ct\n",
    "print(pct)\n",
    "ptt = (hit**2-tt)**2/tt\n",
    "print(ptt)\n",
    "print()\n",
    "\n",
    "from scipy.stats import chisquare\n",
    "print(chisquare([pcc, pct, ptt], ddof=1).pvalue)"
   ]
  },
  {
   "cell_type": "markdown",
   "metadata": {},
   "source": [
    "## Genome Wide Association Studies \n",
    "\n",
    "The goal of the genome wide association studies is to determine if the difference in the allele frequencies of the diseased population is significantly different that the allele frequencies of the control population. "
   ]
  },
  {
   "cell_type": "code",
   "execution_count": 4,
   "metadata": {},
   "outputs": [
    {
     "name": "stdout",
     "output_type": "stream",
     "text": [
      "0.9864361603672306\n"
     ]
    }
   ],
   "source": [
    "# Compute the odds ratio for the minor allele in the bipolar disorder vs the controls? \n",
    "print(1497*3738/(2270*2499))\n"
   ]
  },
  {
   "cell_type": "code",
   "execution_count": 5,
   "metadata": {},
   "outputs": [
    {
     "name": "stdout",
     "output_type": "stream",
     "text": [
      "0.8020068204114305\n",
      "0.8069668259875971\n"
     ]
    }
   ],
   "source": [
    "# Execute a chi-square test to test the association of the allele frequencies in bipolar vs healthy controls? \n",
    "# Is the association signifcant?\n",
    "print(chisquare([0.37462462462462465, 0.6253753753753754]).pvalue)\n",
    "print(chisquare([0.37782956058588546, 0.6221704394141145]).pvalue)"
   ]
  },
  {
   "cell_type": "code",
   "execution_count": 7,
   "metadata": {},
   "outputs": [
    {
     "name": "stdout",
     "output_type": "stream",
     "text": [
      "0.0\n",
      "0.8069668259875971\n"
     ]
    }
   ],
   "source": [
    "print(chisquare([1529/(2649+1529), 2649+(2649+1529)]).pvalue)\n",
    "print(chisquare([2270/(2270+3738), 3738/(2270+3738)]).pvalue)"
   ]
  },
  {
   "cell_type": "code",
   "execution_count": 13,
   "metadata": {},
   "outputs": [
    {
     "data": {
      "text/plain": [
       "(0.1976303057089011,\n",
       " 0.6566404325519222,\n",
       " 1,\n",
       " array([[1517.92944233, 2480.07055767],\n",
       "        [2281.07055767, 3726.92944233]]))"
      ]
     },
     "execution_count": 13,
     "metadata": {},
     "output_type": "execute_result"
    }
   ],
   "source": [
    "from scipy.stats import chi2_contingency\n",
    "import numpy as np\n",
    "chi2_contingency(np.array([[1529, 2469], [2270, 3738]])) "
   ]
  },
  {
   "cell_type": "code",
   "execution_count": 16,
   "metadata": {},
   "outputs": [
    {
     "data": {
      "text/plain": [
       "2.2698077081186933e-58"
      ]
     },
     "execution_count": 16,
     "metadata": {},
     "output_type": "execute_result"
    }
   ],
   "source": [
    "## Execute a chisq test to determine if the odds ratio is significant\n",
    "## return the p-value from the chisq test\n",
    "from scipy.stats import chisquare\n",
    "def getPValue (confusionMatrix):\n",
    "    return chisquare(confusionMatrix).pvalue\n",
    "\n",
    "getPValue(np.array([[1529, 2469], [2270, 3738]]))[1]"
   ]
  },
  {
   "cell_type": "code",
   "execution_count": null,
   "metadata": {},
   "outputs": [],
   "source": []
  }
 ],
 "metadata": {
  "kernelspec": {
   "display_name": "Python 3",
   "language": "python",
   "name": "python3"
  },
  "language_info": {
   "codemirror_mode": {
    "name": "ipython",
    "version": 3
   },
   "file_extension": ".py",
   "mimetype": "text/x-python",
   "name": "python",
   "nbconvert_exporter": "python",
   "pygments_lexer": "ipython3",
   "version": "3.6.8"
  }
 },
 "nbformat": 4,
 "nbformat_minor": 2
}
